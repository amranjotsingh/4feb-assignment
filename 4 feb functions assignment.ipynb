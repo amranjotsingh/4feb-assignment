{
 "cells": [
  {
   "cell_type": "code",
   "execution_count": 5,
   "id": "edd901f2-5461-4f96-b360-36c3daa7279f",
   "metadata": {},
   "outputs": [],
   "source": [
    "# Question no 1"
   ]
  },
  {
   "cell_type": "code",
   "execution_count": 62,
   "id": "6f94f030-e865-4597-9284-c7296fd1ab2c",
   "metadata": {},
   "outputs": [],
   "source": [
    "l=list([('Sachin Tendulkar', 34357), ('Ricky Ponting', 27483), ('Jack Kallis', 25534), ('Virat Kohli', 24936)])"
   ]
  },
  {
   "cell_type": "code",
   "execution_count": 65,
   "id": "d7a4ed52-9a2c-4af5-8ced-8e3056dc1112",
   "metadata": {},
   "outputs": [
    {
     "name": "stdout",
     "output_type": "stream",
     "text": [
      "[('Virat Kohli', 24936), ('Jack Kallis', 25534), ('Ricky Ponting', 27483), ('Sachin Tendulkar', 34357)]\n"
     ]
    }
   ],
   "source": [
    "l.sort(key = lambda x: x[1])\n",
    "print(l)"
   ]
  },
  {
   "cell_type": "code",
   "execution_count": 6,
   "id": "497bb024-35e2-4281-8fed-0f6ee36644a2",
   "metadata": {},
   "outputs": [],
   "source": [
    "# Question no 2"
   ]
  },
  {
   "cell_type": "code",
   "execution_count": 7,
   "id": "d7e080ba-2566-4cbd-a50b-f3e2e49b59a8",
   "metadata": {},
   "outputs": [],
   "source": [
    "l1 = [1, 2, 3, 4, 5, 6, 7, 8, 9, 10]"
   ]
  },
  {
   "cell_type": "code",
   "execution_count": 10,
   "id": "86e6de99-d3fb-4fdb-a147-c1dc3f8dd4d5",
   "metadata": {},
   "outputs": [],
   "source": [
    "a=lambda x: x**2"
   ]
  },
  {
   "cell_type": "code",
   "execution_count": 11,
   "id": "e0b72470-a4c9-415b-9ba6-80302b3e1c8d",
   "metadata": {},
   "outputs": [
    {
     "data": {
      "text/plain": [
       "[1, 4, 9, 16, 25, 36, 49, 64, 81, 100]"
      ]
     },
     "execution_count": 11,
     "metadata": {},
     "output_type": "execute_result"
    }
   ],
   "source": [
    "list(map(a,l1))"
   ]
  },
  {
   "cell_type": "code",
   "execution_count": 12,
   "id": "f3be18da-6662-4b9f-99c7-93572189d455",
   "metadata": {},
   "outputs": [],
   "source": [
    "# Question no 3"
   ]
  },
  {
   "cell_type": "code",
   "execution_count": 24,
   "id": "3d4888ad-60ad-42a3-bbe0-7ba803be5402",
   "metadata": {},
   "outputs": [],
   "source": [
    "l2 = [1, 2, 3, 4, 5, 6, 7, 8, 9, 10]"
   ]
  },
  {
   "cell_type": "code",
   "execution_count": 25,
   "id": "ff32f8b7-f1ed-4650-a4f4-af8e8563a512",
   "metadata": {},
   "outputs": [
    {
     "data": {
      "text/plain": [
       "('1', '2', '3', '4', '5', '6', '7', '8', '9', '10')"
      ]
     },
     "execution_count": 25,
     "metadata": {},
     "output_type": "execute_result"
    }
   ],
   "source": [
    "tuple(map(lambda x: str(x) ,l2))"
   ]
  },
  {
   "cell_type": "code",
   "execution_count": 26,
   "id": "30f72644-f88b-4ad5-85c2-595e22b7a95e",
   "metadata": {},
   "outputs": [],
   "source": [
    "# Question no 4"
   ]
  },
  {
   "cell_type": "code",
   "execution_count": 51,
   "id": "633ef708-4d84-41cf-b27a-f4c9ed602174",
   "metadata": {},
   "outputs": [],
   "source": [
    "l4 = list(range(1,25))"
   ]
  },
  {
   "cell_type": "code",
   "execution_count": 52,
   "id": "d4c88251-f591-4f3c-8d18-d503b50ebabd",
   "metadata": {},
   "outputs": [
    {
     "data": {
      "text/plain": [
       "[1,\n",
       " 2,\n",
       " 3,\n",
       " 4,\n",
       " 5,\n",
       " 6,\n",
       " 7,\n",
       " 8,\n",
       " 9,\n",
       " 10,\n",
       " 11,\n",
       " 12,\n",
       " 13,\n",
       " 14,\n",
       " 15,\n",
       " 16,\n",
       " 17,\n",
       " 18,\n",
       " 19,\n",
       " 20,\n",
       " 21,\n",
       " 22,\n",
       " 23,\n",
       " 24]"
      ]
     },
     "execution_count": 52,
     "metadata": {},
     "output_type": "execute_result"
    }
   ],
   "source": [
    "l4"
   ]
  },
  {
   "cell_type": "code",
   "execution_count": 36,
   "id": "0e3ec5b0-c648-4a3c-af00-71637967b673",
   "metadata": {},
   "outputs": [],
   "source": [
    "from functools import reduce "
   ]
  },
  {
   "cell_type": "code",
   "execution_count": 54,
   "id": "4307d093-6be7-430c-8fdb-ce86f8134041",
   "metadata": {},
   "outputs": [
    {
     "data": {
      "text/plain": [
       "620448401733239439360000"
      ]
     },
     "execution_count": 54,
     "metadata": {},
     "output_type": "execute_result"
    }
   ],
   "source": [
    "reduce(lambda x,y : x*y,l4)"
   ]
  },
  {
   "cell_type": "code",
   "execution_count": 55,
   "id": "08b9d08b-cef8-4784-9358-f2ad42bc5d88",
   "metadata": {},
   "outputs": [],
   "source": [
    "# Question no 5"
   ]
  },
  {
   "cell_type": "code",
   "execution_count": 56,
   "id": "a8a96a8e-b46e-4782-a187-9018ef328914",
   "metadata": {},
   "outputs": [],
   "source": [
    "l5 =[2, 3, 6, 9, 27, 60, 90, 120, 55, 46]"
   ]
  },
  {
   "cell_type": "code",
   "execution_count": 57,
   "id": "d3f4a866-ed58-4daf-8cde-b4e1f8e59560",
   "metadata": {},
   "outputs": [
    {
     "data": {
      "text/plain": [
       "[2, 3, 6, 9, 27, 60, 90, 120, 46]"
      ]
     },
     "execution_count": 57,
     "metadata": {},
     "output_type": "execute_result"
    }
   ],
   "source": [
    "list(filter(lambda x: x%2==0 or x%3==0,l5))"
   ]
  },
  {
   "cell_type": "code",
   "execution_count": 58,
   "id": "9cea5167-8947-49e7-849d-cce624aae137",
   "metadata": {},
   "outputs": [],
   "source": [
    "# Question no 6"
   ]
  },
  {
   "cell_type": "code",
   "execution_count": 86,
   "id": "cc09b3c4-0a9b-4469-aa32-ce3e0ecffc74",
   "metadata": {},
   "outputs": [],
   "source": [
    "l6 = ['python', 'php', 'aba', 'radar', 'level']"
   ]
  },
  {
   "cell_type": "code",
   "execution_count": 88,
   "id": "751239de-3433-4043-ad1c-861ae52024d7",
   "metadata": {},
   "outputs": [
    {
     "name": "stdout",
     "output_type": "stream",
     "text": [
      "Palindromes ['level', 'radar', 'aba', 'php']\n"
     ]
    }
   ],
   "source": [
    "result = list(filter(lambda x: (x == \"\".join(reversed(x))), l6)) \n",
    "print(\"Palindromes\", result)"
   ]
  },
  {
   "cell_type": "code",
   "execution_count": null,
   "id": "d94185f8-1c7c-451a-bc9c-decde89d9782",
   "metadata": {},
   "outputs": [],
   "source": []
  }
 ],
 "metadata": {
  "kernelspec": {
   "display_name": "Python 3 (ipykernel)",
   "language": "python",
   "name": "python3"
  },
  "language_info": {
   "codemirror_mode": {
    "name": "ipython",
    "version": 3
   },
   "file_extension": ".py",
   "mimetype": "text/x-python",
   "name": "python",
   "nbconvert_exporter": "python",
   "pygments_lexer": "ipython3",
   "version": "3.10.8"
  }
 },
 "nbformat": 4,
 "nbformat_minor": 5
}
